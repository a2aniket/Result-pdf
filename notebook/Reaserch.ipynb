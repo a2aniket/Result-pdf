{
 "cells": [
  {
   "cell_type": "markdown",
   "metadata": {},
   "source": [
    "# PDF to TEXT (Data mining) to CSV to EXEL"
   ]
  },
  {
   "cell_type": "code",
   "execution_count": 92,
   "metadata": {},
   "outputs": [
    {
     "name": "stdout",
     "output_type": "stream",
     "text": [
      "Savitribai Phule Pune University, Online Result http://results.unipune.ac.in/MCOM2013_Credit.aspx?Course_Code=70...\n",
      "Branch : S.E.(2015 PAT.) MAY 2020\n",
      "SeatNo            :S150574282                  Centre:     57 Perm Reg No(PRN) : 72005588B\n",
      "Student Name : MALI AKSHAY ABHIMANYU Mother Name : VARSHA\n",
      "Col/Inst.Name : 57  SINHGAD INSTI.OF TECH. & SC.,NARHE-AMBEGAON\n",
      "Performance/Result for the Examination at Year: APR/MAY 2020\n",
      "SEM SUBCODE SUBJECT NAME CRD        GRD             GP\n",
      "3   210241 DISCRETE MATHEMATICS 4# B+ 28\n",
      "210242 DIGI ELECTRONI & LOGIC DESIGN 4 B 24\n",
      "210243 DATA STRUCTURES & ALGORITHMS 4 A+ 36\n",
      "210244 COMP ORGANIZATION & ARCHI 4 B 24\n",
      "210245 OBJECT ORIENTED PROGRAMMING 4 A 32\n",
      "210246 DIGITAL ELECTRONICS LAB 1 O 10\n",
      "210247 DATA STRUCTURES LAB 2 O 20\n",
      "210248 OBJECT ORIE PROGR LAB 1 O 10\n",
      "210249 SOFT SKILLS 1 A 08\n",
      "210250D SMART CITIES 0 P 00\n",
      "4   207003 ENGINEERING MATHEMATICS III 4 O 40\n",
      "207003 ENGINEERING MATHEMATICS III 1 O 10\n",
      "210251 COMPUTER GRAPHICS 4 O 40\n",
      "210252 ADVANCED DATA STRUCTURES 4 O 40\n",
      "210253 MICROPROCESSOR 4 O 40\n",
      "210254 PRINCIPLES OF PROG. LANG. 3 O 30\n",
      "210255 COMPUTER GRAPHICS LAB 1 O 10\n",
      "210256 ADVANCED DATA STRUCTURES LAB 2 O 20\n",
      "210257 MICROPROCESSOR LAB 2 O 20\n",
      "210258B INTCL. PROP. RIGHTS & PATENTS 0 P 00\n",
      "SECOND YEAR SGPA :- 8.84 TOTAL CREDITS EARNED :50\n",
      "             RESULT DATE : 20 July 2020\n",
      "The results published online are for immediate information only. These cannot be treated as original statement of marks,Please verify the\n",
      "information from original statement of marks issued by the Savitribai Phule Pune University separately.\n",
      "1 of 1 21-Jul-20, 8:15 PM\n"
     ]
    }
   ],
   "source": [
    "import pdfplumber\n",
    "with pdfplumber.open(r'../data/source/one.pdf') as pdf:\n",
    "    first_page = pdf.pages[0]\n",
    "    print(first_page.extract_text())"
   ]
  },
  {
   "cell_type": "code",
   "execution_count": 93,
   "metadata": {},
   "outputs": [],
   "source": [
    "info=first_page.extract_text()\n",
    "import re"
   ]
  },
  {
   "cell_type": "markdown",
   "metadata": {},
   "source": [
    "##  Set Number"
   ]
  },
  {
   "cell_type": "code",
   "execution_count": 94,
   "metadata": {},
   "outputs": [
    {
     "data": {
      "text/plain": [
       "'S150574282'"
      ]
     },
     "execution_count": 94,
     "metadata": {},
     "output_type": "execute_result"
    }
   ],
   "source": [
    "set_no=re.search(r\"SeatNo *: *([a-zA-Z0-9]*)\",info)\n",
    "set_no.group(1)"
   ]
  },
  {
   "cell_type": "markdown",
   "metadata": {},
   "source": [
    "## Center Number"
   ]
  },
  {
   "cell_type": "code",
   "execution_count": 95,
   "metadata": {},
   "outputs": [
    {
     "data": {
      "text/plain": [
       "'57'"
      ]
     },
     "execution_count": 95,
     "metadata": {},
     "output_type": "execute_result"
    }
   ],
   "source": [
    "center=re.search(r\"Centre*: *([0-9]*)\",info)\n",
    "center.group(1)"
   ]
  },
  {
   "cell_type": "markdown",
   "metadata": {},
   "source": [
    "## PRN Number"
   ]
  },
  {
   "cell_type": "code",
   "execution_count": 96,
   "metadata": {},
   "outputs": [
    {
     "data": {
      "text/plain": [
       "'72005588B'"
      ]
     },
     "execution_count": 96,
     "metadata": {},
     "output_type": "execute_result"
    }
   ],
   "source": [
    "prn=re.search(r\"57 Perm Reg No\\(PRN\\) *: *([a-zA-z0-9]*)\",info)\n",
    "prn.group(1)"
   ]
  },
  {
   "cell_type": "markdown",
   "metadata": {},
   "source": [
    "## Student Name"
   ]
  },
  {
   "cell_type": "code",
   "execution_count": 97,
   "metadata": {},
   "outputs": [
    {
     "data": {
      "text/plain": [
       "'MALI AKSHAY ABHIMANYU'"
      ]
     },
     "execution_count": 97,
     "metadata": {},
     "output_type": "execute_result"
    }
   ],
   "source": [
    "name=re.search('Student Name : (\\w+\\s\\w+\\s\\w+)', info)\n",
    "name.group(1)"
   ]
  },
  {
   "cell_type": "markdown",
   "metadata": {},
   "source": [
    "## Mother Name"
   ]
  },
  {
   "cell_type": "code",
   "execution_count": 98,
   "metadata": {},
   "outputs": [
    {
     "data": {
      "text/plain": [
       "'VARSHA'"
      ]
     },
     "execution_count": 98,
     "metadata": {},
     "output_type": "execute_result"
    }
   ],
   "source": [
    "mother_name=re.search(r\"Mother Name *: *([a-zA-Z]*)\",info)\n",
    "mother_name.group(1)"
   ]
  },
  {
   "cell_type": "markdown",
   "metadata": {},
   "source": [
    "## Subject wise marks"
   ]
  },
  {
   "cell_type": "code",
   "execution_count": 99,
   "metadata": {},
   "outputs": [],
   "source": [
    "marks=re.findall(\"[0-9]{6}.*\",info)"
   ]
  },
  {
   "cell_type": "code",
   "execution_count": 100,
   "metadata": {},
   "outputs": [
    {
     "data": {
      "text/plain": [
       "['150574282                  Centre:     57 Perm Reg No(PRN) : 72005588B',\n",
       " '210241 DISCRETE MATHEMATICS 4# B+ 28',\n",
       " '210242 DIGI ELECTRONI & LOGIC DESIGN 4 B 24',\n",
       " '210243 DATA STRUCTURES & ALGORITHMS 4 A+ 36',\n",
       " '210244 COMP ORGANIZATION & ARCHI 4 B 24',\n",
       " '210245 OBJECT ORIENTED PROGRAMMING 4 A 32',\n",
       " '210246 DIGITAL ELECTRONICS LAB 1 O 10',\n",
       " '210247 DATA STRUCTURES LAB 2 O 20',\n",
       " '210248 OBJECT ORIE PROGR LAB 1 O 10',\n",
       " '210249 SOFT SKILLS 1 A 08',\n",
       " '210250D SMART CITIES 0 P 00',\n",
       " '207003 ENGINEERING MATHEMATICS III 4 O 40',\n",
       " '207003 ENGINEERING MATHEMATICS III 1 O 10',\n",
       " '210251 COMPUTER GRAPHICS 4 O 40',\n",
       " '210252 ADVANCED DATA STRUCTURES 4 O 40',\n",
       " '210253 MICROPROCESSOR 4 O 40',\n",
       " '210254 PRINCIPLES OF PROG. LANG. 3 O 30',\n",
       " '210255 COMPUTER GRAPHICS LAB 1 O 10',\n",
       " '210256 ADVANCED DATA STRUCTURES LAB 2 O 20',\n",
       " '210257 MICROPROCESSOR LAB 2 O 20',\n",
       " '210258B INTCL. PROP. RIGHTS & PATENTS 0 P 00']"
      ]
     },
     "execution_count": 100,
     "metadata": {},
     "output_type": "execute_result"
    }
   ],
   "source": [
    "marks"
   ]
  },
  {
   "cell_type": "code",
   "execution_count": 101,
   "metadata": {},
   "outputs": [
    {
     "data": {
      "text/plain": [
       "'DISCRETE MATHEMATICS'"
      ]
     },
     "execution_count": 101,
     "metadata": {},
     "output_type": "execute_result"
    }
   ],
   "source": [
    "one=re.search('[0-9]{6} * (\\w+\\s\\w+)',marks[1])\n",
    "one.group(1)"
   ]
  },
  {
   "cell_type": "code",
   "execution_count": 102,
   "metadata": {},
   "outputs": [
    {
     "name": "stdout",
     "output_type": "stream",
     "text": [
      "{'subject_code': '210241', 'subject_name': 'DISCRETE MATHEMATICS', 'cred': '4#', 'grd': 'B+', 'gp': '28'}\n",
      "{'subject_code': '210242', 'subject_name': 'DIGI ELECTRONI & LOGIC DESIGN', 'cred': '4', 'grd': 'B', 'gp': '24'}\n",
      "{'subject_code': '210243', 'subject_name': 'DATA STRUCTURES & ALGORITHMS', 'cred': '4', 'grd': 'A+', 'gp': '36'}\n",
      "{'subject_code': '210244', 'subject_name': 'COMP ORGANIZATION & ARCHI', 'cred': '4', 'grd': 'B', 'gp': '24'}\n",
      "{'subject_code': '210245', 'subject_name': 'OBJECT ORIENTED PROGRAMMING', 'cred': '4', 'grd': 'A', 'gp': '32'}\n",
      "{'subject_code': '210246', 'subject_name': 'DIGITAL ELECTRONICS LAB', 'cred': '1', 'grd': 'O', 'gp': '10'}\n",
      "{'subject_code': '210247', 'subject_name': 'DATA STRUCTURES LAB', 'cred': '2', 'grd': 'O', 'gp': '20'}\n",
      "{'subject_code': '210248', 'subject_name': 'OBJECT ORIE PROGR LAB', 'cred': '1', 'grd': 'O', 'gp': '10'}\n",
      "{'subject_code': '210249', 'subject_name': 'SOFT SKILLS', 'cred': '1', 'grd': 'A', 'gp': '08'}\n",
      "{'subject_code': '210250D', 'subject_name': 'SMART CITIES', 'cred': '0', 'grd': 'P', 'gp': '00'}\n",
      "{'subject_code': '207003', 'subject_name': 'ENGINEERING MATHEMATICS III', 'cred': '4', 'grd': 'O', 'gp': '40'}\n",
      "{'subject_code': '207003', 'subject_name': 'ENGINEERING MATHEMATICS III', 'cred': '1', 'grd': 'O', 'gp': '10'}\n",
      "{'subject_code': '210251', 'subject_name': 'COMPUTER GRAPHICS', 'cred': '4', 'grd': 'O', 'gp': '40'}\n",
      "{'subject_code': '210252', 'subject_name': 'ADVANCED DATA STRUCTURES', 'cred': '4', 'grd': 'O', 'gp': '40'}\n",
      "{'subject_code': '210253', 'subject_name': 'MICROPROCESSOR', 'cred': '4', 'grd': 'O', 'gp': '40'}\n",
      "{'subject_code': '210254', 'subject_name': 'PRINCIPLES OF PROG. LANG.', 'cred': '3', 'grd': 'O', 'gp': '30'}\n",
      "{'subject_code': '210255', 'subject_name': 'COMPUTER GRAPHICS LAB', 'cred': '1', 'grd': 'O', 'gp': '10'}\n",
      "{'subject_code': '210256', 'subject_name': 'ADVANCED DATA STRUCTURES LAB', 'cred': '2', 'grd': 'O', 'gp': '20'}\n",
      "{'subject_code': '210257', 'subject_name': 'MICROPROCESSOR LAB', 'cred': '2', 'grd': 'O', 'gp': '20'}\n",
      "{'subject_code': '210258B', 'subject_name': 'INTCL. PROP. RIGHTS & PATENTS', 'cred': '0', 'grd': 'P', 'gp': '00'}\n"
     ]
    }
   ],
   "source": [
    "final={\n",
    "   \"set_no\":set_no.group(1),\n",
    "    \"prn\":prn.group(1),\n",
    "    \"name\":name.group(1),\n",
    "    \"mother_name\":mother_name.group(1)\n",
    "}\n",
    "for i in range(1,21):\n",
    "    result=re.search(\"([0-9A-Z]{6,7})* ([a-zA-Z &.]*) * ([0-9#]{1,2}) * ([A-Z+]{1,2}) * ([0-9]{2})\",marks[i])\n",
    "    subject_code=result.group(1)\n",
    "    subject_name=result.group(2)\n",
    "    cred=result.group(3)\n",
    "    grd=result.group(4)\n",
    "    gp=result.group(5)\n",
    "\n",
    "    final[f\"{subject_name}\"]=gp\n",
    "\n",
    "\n",
    "    dist={\n",
    "        \"subject_code\":subject_code,\n",
    "        \"subject_name\":subject_name,\n",
    "        \"cred\":cred,\n",
    "        \"grd\":grd,\n",
    "        \"gp\":gp, \n",
    "    }\n",
    "    \n",
    "    print(dist)"
   ]
  },
  {
   "cell_type": "markdown",
   "metadata": {},
   "source": [
    "## Data to DataFrame"
   ]
  },
  {
   "cell_type": "code",
   "execution_count": 103,
   "metadata": {},
   "outputs": [],
   "source": [
    "final=[final]\n",
    "data=pd.DataFrame(final)\n",
    "data.to_csv(\"test.csv\")"
   ]
  },
  {
   "cell_type": "code",
   "execution_count": 104,
   "metadata": {},
   "outputs": [
    {
     "data": {
      "text/html": [
       "<div>\n",
       "<style scoped>\n",
       "    .dataframe tbody tr th:only-of-type {\n",
       "        vertical-align: middle;\n",
       "    }\n",
       "\n",
       "    .dataframe tbody tr th {\n",
       "        vertical-align: top;\n",
       "    }\n",
       "\n",
       "    .dataframe thead th {\n",
       "        text-align: right;\n",
       "    }\n",
       "</style>\n",
       "<table border=\"1\" class=\"dataframe\">\n",
       "  <thead>\n",
       "    <tr style=\"text-align: right;\">\n",
       "      <th></th>\n",
       "      <th>set_no</th>\n",
       "      <th>prn</th>\n",
       "      <th>name</th>\n",
       "      <th>mother_name</th>\n",
       "      <th>DISCRETE MATHEMATICS</th>\n",
       "      <th>DIGI ELECTRONI &amp; LOGIC DESIGN</th>\n",
       "      <th>DATA STRUCTURES &amp; ALGORITHMS</th>\n",
       "      <th>COMP ORGANIZATION &amp; ARCHI</th>\n",
       "      <th>OBJECT ORIENTED PROGRAMMING</th>\n",
       "      <th>DIGITAL ELECTRONICS LAB</th>\n",
       "      <th>...</th>\n",
       "      <th>SMART CITIES</th>\n",
       "      <th>ENGINEERING MATHEMATICS III</th>\n",
       "      <th>COMPUTER GRAPHICS</th>\n",
       "      <th>ADVANCED DATA STRUCTURES</th>\n",
       "      <th>MICROPROCESSOR</th>\n",
       "      <th>PRINCIPLES OF PROG. LANG.</th>\n",
       "      <th>COMPUTER GRAPHICS LAB</th>\n",
       "      <th>ADVANCED DATA STRUCTURES LAB</th>\n",
       "      <th>MICROPROCESSOR LAB</th>\n",
       "      <th>INTCL. PROP. RIGHTS &amp; PATENTS</th>\n",
       "    </tr>\n",
       "  </thead>\n",
       "  <tbody>\n",
       "    <tr>\n",
       "      <th>0</th>\n",
       "      <td>S150574282</td>\n",
       "      <td>72005588B</td>\n",
       "      <td>MALI AKSHAY ABHIMANYU</td>\n",
       "      <td>VARSHA</td>\n",
       "      <td>28</td>\n",
       "      <td>24</td>\n",
       "      <td>36</td>\n",
       "      <td>24</td>\n",
       "      <td>32</td>\n",
       "      <td>10</td>\n",
       "      <td>...</td>\n",
       "      <td>00</td>\n",
       "      <td>10</td>\n",
       "      <td>40</td>\n",
       "      <td>40</td>\n",
       "      <td>40</td>\n",
       "      <td>30</td>\n",
       "      <td>10</td>\n",
       "      <td>20</td>\n",
       "      <td>20</td>\n",
       "      <td>00</td>\n",
       "    </tr>\n",
       "  </tbody>\n",
       "</table>\n",
       "<p>1 rows × 23 columns</p>\n",
       "</div>"
      ],
      "text/plain": [
       "       set_no        prn                   name mother_name  \\\n",
       "0  S150574282  72005588B  MALI AKSHAY ABHIMANYU      VARSHA   \n",
       "\n",
       "  DISCRETE MATHEMATICS DIGI ELECTRONI & LOGIC DESIGN  \\\n",
       "0                   28                            24   \n",
       "\n",
       "  DATA STRUCTURES & ALGORITHMS COMP ORGANIZATION & ARCHI  \\\n",
       "0                           36                        24   \n",
       "\n",
       "  OBJECT ORIENTED PROGRAMMING DIGITAL ELECTRONICS LAB  ... SMART CITIES  \\\n",
       "0                          32                      10  ...           00   \n",
       "\n",
       "  ENGINEERING MATHEMATICS III COMPUTER GRAPHICS ADVANCED DATA STRUCTURES  \\\n",
       "0                          10                40                       40   \n",
       "\n",
       "  MICROPROCESSOR PRINCIPLES OF PROG. LANG. COMPUTER GRAPHICS LAB  \\\n",
       "0             40                        30                    10   \n",
       "\n",
       "  ADVANCED DATA STRUCTURES LAB MICROPROCESSOR LAB  \\\n",
       "0                           20                 20   \n",
       "\n",
       "  INTCL. PROP. RIGHTS & PATENTS  \n",
       "0                            00  \n",
       "\n",
       "[1 rows x 23 columns]"
      ]
     },
     "execution_count": 104,
     "metadata": {},
     "output_type": "execute_result"
    }
   ],
   "source": [
    "data"
   ]
  },
  {
   "cell_type": "code",
   "execution_count": null,
   "metadata": {},
   "outputs": [],
   "source": []
  }
 ],
 "metadata": {
  "kernelspec": {
   "display_name": "Python 3",
   "language": "python",
   "name": "python3"
  },
  "language_info": {
   "codemirror_mode": {
    "name": "ipython",
    "version": 3
   },
   "file_extension": ".py",
   "mimetype": "text/x-python",
   "name": "python",
   "nbconvert_exporter": "python",
   "pygments_lexer": "ipython3",
   "version": "3.7.6"
  }
 },
 "nbformat": 4,
 "nbformat_minor": 4
}
