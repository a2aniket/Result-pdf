{
 "cells": [
  {
   "cell_type": "code",
   "execution_count": 34,
   "metadata": {},
   "outputs": [
    {
     "name": "stdout",
     "output_type": "stream",
     "text": [
      "Savitribai Phule Pune University, Online Result http://results.unipune.ac.in/MCOM2013_Credit.aspx?Course_Code=70...\n",
      "Branch : S.E.(2015 PAT.) MAY 2020\n",
      "SeatNo            :S150574282                  Centre:     57 Perm Reg No(PRN) : 72005588B\n",
      "Student Name : MALI AKSHAY ABHIMANYU Mother Name : VARSHA\n",
      "Col/Inst.Name : 57  SINHGAD INSTI.OF TECH. & SC.,NARHE-AMBEGAON\n",
      "Performance/Result for the Examination at Year: APR/MAY 2020\n",
      "SEM SUBCODE SUBJECT NAME CRD        GRD             GP\n",
      "3   210241 DISCRETE MATHEMATICS 4# B+ 28\n",
      "210242 DIGI ELECTRONI & LOGIC DESIGN 4 B 24\n",
      "210243 DATA STRUCTURES & ALGORITHMS 4 A+ 36\n",
      "210244 COMP ORGANIZATION & ARCHI 4 B 24\n",
      "210245 OBJECT ORIENTED PROGRAMMING 4 A 32\n",
      "210246 DIGITAL ELECTRONICS LAB 1 O 10\n",
      "210247 DATA STRUCTURES LAB 2 O 20\n",
      "210248 OBJECT ORIE PROGR LAB 1 O 10\n",
      "210249 SOFT SKILLS 1 A 08\n",
      "210250D SMART CITIES 0 P 00\n",
      "4   207003 ENGINEERING MATHEMATICS III 4 O 40\n",
      "207003 ENGINEERING MATHEMATICS III 1 O 10\n",
      "210251 COMPUTER GRAPHICS 4 O 40\n",
      "210252 ADVANCED DATA STRUCTURES 4 O 40\n",
      "210253 MICROPROCESSOR 4 O 40\n",
      "210254 PRINCIPLES OF PROG. LANG. 3 O 30\n",
      "210255 COMPUTER GRAPHICS LAB 1 O 10\n",
      "210256 ADVANCED DATA STRUCTURES LAB 2 O 20\n",
      "210257 MICROPROCESSOR LAB 2 O 20\n",
      "210258B INTCL. PROP. RIGHTS & PATENTS 0 P 00\n",
      "SECOND YEAR SGPA :- 8.84 TOTAL CREDITS EARNED :50\n",
      "             RESULT DATE : 20 July 2020\n",
      "The results published online are for immediate information only. These cannot be treated as original statement of marks,Please verify the\n",
      "information from original statement of marks issued by the Savitribai Phule Pune University separately.\n",
      "1 of 1 21-Jul-20, 8:15 PM\n"
     ]
    }
   ],
   "source": [
    "import pdfplumber\n",
    "import csv\n",
    "import pandas as pd\n",
    "with pdfplumber.open(r'../data/source/one.pdf') as pdf:\n",
    "    first_page = pdf.pages[0]\n",
    "    print(first_page.extract_text())"
   ]
  },
  {
   "cell_type": "code",
   "execution_count": 2,
   "metadata": {},
   "outputs": [],
   "source": [
    "info=first_page.extract_text()\n",
    "import re"
   ]
  },
  {
   "cell_type": "code",
   "execution_count": 3,
   "metadata": {},
   "outputs": [
    {
     "data": {
      "text/plain": [
       "'S150574282'"
      ]
     },
     "execution_count": 3,
     "metadata": {},
     "output_type": "execute_result"
    }
   ],
   "source": [
    "set_no=re.search(r\"SeatNo *: *([a-zA-Z0-9]*)\",info)\n",
    "set_no.group(1)"
   ]
  },
  {
   "cell_type": "code",
   "execution_count": 4,
   "metadata": {},
   "outputs": [
    {
     "data": {
      "text/plain": [
       "'57'"
      ]
     },
     "execution_count": 4,
     "metadata": {},
     "output_type": "execute_result"
    }
   ],
   "source": [
    "center=re.search(r\"Centre*: *([0-9]*)\",info)\n",
    "center.group(1)"
   ]
  },
  {
   "cell_type": "code",
   "execution_count": 5,
   "metadata": {},
   "outputs": [
    {
     "data": {
      "text/plain": [
       "'72005588B'"
      ]
     },
     "execution_count": 5,
     "metadata": {},
     "output_type": "execute_result"
    }
   ],
   "source": [
    "prn=re.search(r\"57 Perm Reg No\\(PRN\\) *: *([a-zA-z0-9]*)\",info)\n",
    "prn.group(1)"
   ]
  },
  {
   "cell_type": "code",
   "execution_count": 6,
   "metadata": {},
   "outputs": [
    {
     "data": {
      "text/plain": [
       "'MALI AKSHAY ABHIMANYU'"
      ]
     },
     "execution_count": 6,
     "metadata": {},
     "output_type": "execute_result"
    }
   ],
   "source": [
    "name=re.search('Student Name : (\\w+\\s\\w+\\s\\w+)', info)\n",
    "name.group(1)"
   ]
  },
  {
   "cell_type": "code",
   "execution_count": 7,
   "metadata": {},
   "outputs": [
    {
     "data": {
      "text/plain": [
       "'VARSHA'"
      ]
     },
     "execution_count": 7,
     "metadata": {},
     "output_type": "execute_result"
    }
   ],
   "source": [
    "mother_name=re.search(r\"Mother Name *: *([a-zA-Z]*)\",info)\n",
    "mother_name.group(1)"
   ]
  },
  {
   "cell_type": "code",
   "execution_count": 8,
   "metadata": {},
   "outputs": [],
   "source": [
    "marks=re.findall(\"[0-9]{6}.*\",info)"
   ]
  },
  {
   "cell_type": "code",
   "execution_count": 9,
   "metadata": {},
   "outputs": [
    {
     "data": {
      "text/plain": [
       "['150574282                  Centre:     57 Perm Reg No(PRN) : 72005588B',\n",
       " '210241 DISCRETE MATHEMATICS 4# B+ 28',\n",
       " '210242 DIGI ELECTRONI & LOGIC DESIGN 4 B 24',\n",
       " '210243 DATA STRUCTURES & ALGORITHMS 4 A+ 36',\n",
       " '210244 COMP ORGANIZATION & ARCHI 4 B 24',\n",
       " '210245 OBJECT ORIENTED PROGRAMMING 4 A 32',\n",
       " '210246 DIGITAL ELECTRONICS LAB 1 O 10',\n",
       " '210247 DATA STRUCTURES LAB 2 O 20',\n",
       " '210248 OBJECT ORIE PROGR LAB 1 O 10',\n",
       " '210249 SOFT SKILLS 1 A 08',\n",
       " '210250D SMART CITIES 0 P 00',\n",
       " '207003 ENGINEERING MATHEMATICS III 4 O 40',\n",
       " '207003 ENGINEERING MATHEMATICS III 1 O 10',\n",
       " '210251 COMPUTER GRAPHICS 4 O 40',\n",
       " '210252 ADVANCED DATA STRUCTURES 4 O 40',\n",
       " '210253 MICROPROCESSOR 4 O 40',\n",
       " '210254 PRINCIPLES OF PROG. LANG. 3 O 30',\n",
       " '210255 COMPUTER GRAPHICS LAB 1 O 10',\n",
       " '210256 ADVANCED DATA STRUCTURES LAB 2 O 20',\n",
       " '210257 MICROPROCESSOR LAB 2 O 20',\n",
       " '210258B INTCL. PROP. RIGHTS & PATENTS 0 P 00']"
      ]
     },
     "execution_count": 9,
     "metadata": {},
     "output_type": "execute_result"
    }
   ],
   "source": [
    "marks"
   ]
  },
  {
   "cell_type": "code",
   "execution_count": 10,
   "metadata": {},
   "outputs": [
    {
     "data": {
      "text/plain": [
       "'DISCRETE MATHEMATICS'"
      ]
     },
     "execution_count": 10,
     "metadata": {},
     "output_type": "execute_result"
    }
   ],
   "source": [
    "one=re.search('[0-9]{6} * (\\w+\\s\\w+)',marks[1])\n",
    "one.group(1)"
   ]
  },
  {
   "cell_type": "code",
   "execution_count": 35,
   "metadata": {},
   "outputs": [
    {
     "name": "stdout",
     "output_type": "stream",
     "text": [
      "[{'Subject_code': '210241', 'Subject_name': 'DISCRETE MATHEMATICS', 'Credit': '4#', 'Grade': 'B+', 'GP': '28'}]\n",
      "[{'Subject_code': '210242', 'Subject_name': 'DIGI ELECTRONI & LOGIC DESIGN', 'Credit': '4', 'Grade': 'B', 'GP': '24'}]\n",
      "[{'Subject_code': '210243', 'Subject_name': 'DATA STRUCTURES & ALGORITHMS', 'Credit': '4', 'Grade': 'A+', 'GP': '36'}]\n",
      "[{'Subject_code': '210244', 'Subject_name': 'COMP ORGANIZATION & ARCHI', 'Credit': '4', 'Grade': 'B', 'GP': '24'}]\n",
      "[{'Subject_code': '210245', 'Subject_name': 'OBJECT ORIENTED PROGRAMMING', 'Credit': '4', 'Grade': 'A', 'GP': '32'}]\n",
      "[{'Subject_code': '210246', 'Subject_name': 'DIGITAL ELECTRONICS LAB', 'Credit': '1', 'Grade': 'O', 'GP': '10'}]\n",
      "[{'Subject_code': '210247', 'Subject_name': 'DATA STRUCTURES LAB', 'Credit': '2', 'Grade': 'O', 'GP': '20'}]\n",
      "[{'Subject_code': '210248', 'Subject_name': 'OBJECT ORIE PROGR LAB', 'Credit': '1', 'Grade': 'O', 'GP': '10'}]\n",
      "[{'Subject_code': '210249', 'Subject_name': 'SOFT SKILLS', 'Credit': '1', 'Grade': 'A', 'GP': '08'}]\n",
      "[{'Subject_code': '210250D', 'Subject_name': 'SMART CITIES', 'Credit': '0', 'Grade': 'P', 'GP': '00'}]\n",
      "[{'Subject_code': '207003', 'Subject_name': 'ENGINEERING MATHEMATICS III', 'Credit': '4', 'Grade': 'O', 'GP': '40'}]\n",
      "[{'Subject_code': '207003', 'Subject_name': 'ENGINEERING MATHEMATICS III', 'Credit': '1', 'Grade': 'O', 'GP': '10'}]\n",
      "[{'Subject_code': '210251', 'Subject_name': 'COMPUTER GRAPHICS', 'Credit': '4', 'Grade': 'O', 'GP': '40'}]\n",
      "[{'Subject_code': '210252', 'Subject_name': 'ADVANCED DATA STRUCTURES', 'Credit': '4', 'Grade': 'O', 'GP': '40'}]\n",
      "[{'Subject_code': '210253', 'Subject_name': 'MICROPROCESSOR', 'Credit': '4', 'Grade': 'O', 'GP': '40'}]\n",
      "[{'Subject_code': '210254', 'Subject_name': 'PRINCIPLES OF PROG. LANG.', 'Credit': '3', 'Grade': 'O', 'GP': '30'}]\n",
      "[{'Subject_code': '210255', 'Subject_name': 'COMPUTER GRAPHICS LAB', 'Credit': '1', 'Grade': 'O', 'GP': '10'}]\n",
      "[{'Subject_code': '210256', 'Subject_name': 'ADVANCED DATA STRUCTURES LAB', 'Credit': '2', 'Grade': 'O', 'GP': '20'}]\n",
      "[{'Subject_code': '210257', 'Subject_name': 'MICROPROCESSOR LAB', 'Credit': '2', 'Grade': 'O', 'GP': '20'}]\n",
      "[{'Subject_code': '210258B', 'Subject_name': 'INTCL. PROP. RIGHTS & PATENTS', 'Credit': '0', 'Grade': 'P', 'GP': '00'}]\n"
     ]
    }
   ],
   "source": [
    "\n",
    "field_names = ['Subject_code', 'Subject_name', 'Credit','Grade','GP']\n",
    "with open('csvoutput.csv', 'a') as csvfile: \n",
    "    writer = csv.DictWriter(csvfile, fieldnames = field_names) \n",
    "    writer.writeheader() \n",
    "\n",
    "\n",
    "\n",
    "\n",
    "for i in range(1,21):\n",
    "    result=re.search(\"([0-9A-Z]{6,7})* ([a-zA-Z &.]*) * ([0-9#]{1,2}) * ([A-Z+]{1,2}) * ([0-9]{2})\",marks[i])\n",
    "    subject_code=result.group(1)\n",
    "    subject_name=result.group(2)\n",
    "    cred=result.group(3)\n",
    "    grd=result.group(4)\n",
    "    gp=result.group(5)\n",
    "\n",
    "\n",
    "    dist=[{\n",
    "        \"Subject_code\":subject_code,\n",
    "        \"Subject_name\":subject_name,\n",
    "        \"Credit\":cred,\n",
    "        \"Grade\":grd,\n",
    "        \"GP\":gp, \n",
    "    }]\n",
    "    field_names = ['Subject_code', 'Subject_name', 'Credit','Grade','GP']\n",
    "    with open('csvoutput.csv', 'a') as csvfile: \n",
    "        writer = csv.DictWriter(csvfile, fieldnames = field_names) \n",
    "        #writer.writeheader() \n",
    "        writer.writerows(dist)\n",
    "    \n",
    "    print(dist)"
   ]
  },
  {
   "cell_type": "code",
   "execution_count": 12,
   "metadata": {},
   "outputs": [
    {
     "data": {
      "text/plain": [
       "dict"
      ]
     },
     "execution_count": 12,
     "metadata": {},
     "output_type": "execute_result"
    }
   ],
   "source": [
    "type(dist)"
   ]
  },
  {
   "cell_type": "code",
   "execution_count": 37,
   "metadata": {},
   "outputs": [
    {
     "name": "stdout",
     "output_type": "stream",
     "text": [
      "   Subject_code                   Subject_name Credit Grade  GP\n",
      "0        210241           DISCRETE MATHEMATICS     4#    B+  28\n",
      "1        210242  DIGI ELECTRONI & LOGIC DESIGN      4     B  24\n",
      "2        210243   DATA STRUCTURES & ALGORITHMS      4    A+  36\n",
      "3        210244      COMP ORGANIZATION & ARCHI      4     B  24\n",
      "4        210245    OBJECT ORIENTED PROGRAMMING      4     A  32\n",
      "5        210246        DIGITAL ELECTRONICS LAB      1     O  10\n",
      "6        210247            DATA STRUCTURES LAB      2     O  20\n",
      "7        210248          OBJECT ORIE PROGR LAB      1     O  10\n",
      "8        210249                    SOFT SKILLS      1     A   8\n",
      "9       210250D                   SMART CITIES      0     P   0\n",
      "10       207003    ENGINEERING MATHEMATICS III      4     O  40\n",
      "11       207003    ENGINEERING MATHEMATICS III      1     O  10\n",
      "12       210251              COMPUTER GRAPHICS      4     O  40\n",
      "13       210252       ADVANCED DATA STRUCTURES      4     O  40\n",
      "14       210253                 MICROPROCESSOR      4     O  40\n",
      "15       210254      PRINCIPLES OF PROG. LANG.      3     O  30\n",
      "16       210255          COMPUTER GRAPHICS LAB      1     O  10\n",
      "17       210256   ADVANCED DATA STRUCTURES LAB      2     O  20\n",
      "18       210257             MICROPROCESSOR LAB      2     O  20\n",
      "19      210258B  INTCL. PROP. RIGHTS & PATENTS      0     P   0\n"
     ]
    }
   ],
   "source": [
    "file = pd.read_csv(r\"csvoutput.csv\")\n",
    "print(file)"
   ]
  },
  {
   "cell_type": "code",
   "execution_count": 38,
   "metadata": {},
   "outputs": [],
   "source": [
    "file.to_excel(r\"exceloutput.xlsx\",index =None,header=True)"
   ]
  },
  {
   "cell_type": "code",
   "execution_count": null,
   "metadata": {},
   "outputs": [],
   "source": []
  }
 ],
 "metadata": {
  "kernelspec": {
   "display_name": "Python 3",
   "language": "python",
   "name": "python3"
  },
  "language_info": {
   "codemirror_mode": {
    "name": "ipython",
    "version": 3
   },
   "file_extension": ".py",
   "mimetype": "text/x-python",
   "name": "python",
   "nbconvert_exporter": "python",
   "pygments_lexer": "ipython3",
   "version": "3.8.5"
  }
 },
 "nbformat": 4,
 "nbformat_minor": 4
}
